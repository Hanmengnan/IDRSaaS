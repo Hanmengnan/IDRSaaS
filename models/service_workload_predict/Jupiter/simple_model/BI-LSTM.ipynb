{
 "cells": [
  {
   "cell_type": "code",
   "execution_count": 2,
   "metadata": {},
   "outputs": [],
   "source": [
    "import numpy as np\n",
    "import pandas as pd\n",
    "\n",
    "import torch\n",
    "import torch.nn as nn\n",
    "import torch.optim as optim\n",
    "\n",
    "from torch.utils.data import TensorDataset, DataLoader\n",
    "\n",
    "from sklearn.preprocessing import MinMaxScaler\n",
    "\n",
    "import matplotlib.pyplot as plt"
   ]
  },
  {
   "cell_type": "code",
   "execution_count": 19,
   "metadata": {},
   "outputs": [],
   "source": [
    "chunksize = 10000\n",
    "reader = pd.read_csv(\n",
    "    \"/data/hmn_data/alibaba_cluster_data/MSRTQps_sort.csv\", chunksize=chunksize)\n"
   ]
  },
  {
   "cell_type": "code",
   "execution_count": 30,
   "metadata": {},
   "outputs": [],
   "source": [
    "df = pd.DataFrame()\n",
    "for index, chunk in enumerate(reader):\n",
    "        if index > 10:\n",
    "            break\n",
    "        df = pd.concat([df, chunk])"
   ]
  },
  {
   "cell_type": "code",
   "execution_count": 12,
   "metadata": {},
   "outputs": [
    {
     "name": "stdout",
     "output_type": "stream",
     "text": [
      "(110000, 5)\n"
     ]
    },
    {
     "data": {
      "text/html": [
       "<div>\n",
       "<style scoped>\n",
       "    .dataframe tbody tr th:only-of-type {\n",
       "        vertical-align: middle;\n",
       "    }\n",
       "\n",
       "    .dataframe tbody tr th {\n",
       "        vertical-align: top;\n",
       "    }\n",
       "\n",
       "    .dataframe thead th {\n",
       "        text-align: right;\n",
       "    }\n",
       "</style>\n",
       "<table border=\"1\" class=\"dataframe\">\n",
       "  <thead>\n",
       "    <tr style=\"text-align: right;\">\n",
       "      <th></th>\n",
       "      <th>Unnamed: 0</th>\n",
       "      <th>msinstanceid</th>\n",
       "      <th>timestamp</th>\n",
       "      <th>HTTP_MCR</th>\n",
       "      <th>HTTP_RT</th>\n",
       "    </tr>\n",
       "  </thead>\n",
       "  <tbody>\n",
       "    <tr>\n",
       "      <th>30000</th>\n",
       "      <td>14289203</td>\n",
       "      <td>007f243f9ac64689c594516ce6db5681f8b1693c3610fb...</td>\n",
       "      <td>38040000</td>\n",
       "      <td>0.421053</td>\n",
       "      <td>0.421053</td>\n",
       "    </tr>\n",
       "    <tr>\n",
       "      <th>30001</th>\n",
       "      <td>14311500</td>\n",
       "      <td>007f243f9ac64689c594516ce6db5681f8b1693c3610fb...</td>\n",
       "      <td>38100000</td>\n",
       "      <td>8.947368</td>\n",
       "      <td>8.947368</td>\n",
       "    </tr>\n",
       "    <tr>\n",
       "      <th>30002</th>\n",
       "      <td>14333794</td>\n",
       "      <td>007f243f9ac64689c594516ce6db5681f8b1693c3610fb...</td>\n",
       "      <td>38160000</td>\n",
       "      <td>0.428571</td>\n",
       "      <td>0.428571</td>\n",
       "    </tr>\n",
       "    <tr>\n",
       "      <th>30003</th>\n",
       "      <td>14356088</td>\n",
       "      <td>007f243f9ac64689c594516ce6db5681f8b1693c3610fb...</td>\n",
       "      <td>38220000</td>\n",
       "      <td>0.772727</td>\n",
       "      <td>0.772727</td>\n",
       "    </tr>\n",
       "    <tr>\n",
       "      <th>30004</th>\n",
       "      <td>14378366</td>\n",
       "      <td>007f243f9ac64689c594516ce6db5681f8b1693c3610fb...</td>\n",
       "      <td>38280000</td>\n",
       "      <td>0.272727</td>\n",
       "      <td>0.272727</td>\n",
       "    </tr>\n",
       "    <tr>\n",
       "      <th>...</th>\n",
       "      <td>...</td>\n",
       "      <td>...</td>\n",
       "      <td>...</td>\n",
       "      <td>...</td>\n",
       "      <td>...</td>\n",
       "    </tr>\n",
       "    <tr>\n",
       "      <th>30095</th>\n",
       "      <td>201749</td>\n",
       "      <td>007f687f46868741039d59a398b94f0860309e921d5d8e...</td>\n",
       "      <td>540000</td>\n",
       "      <td>1.847458</td>\n",
       "      <td>1.847458</td>\n",
       "    </tr>\n",
       "    <tr>\n",
       "      <th>30096</th>\n",
       "      <td>224218</td>\n",
       "      <td>007f687f46868741039d59a398b94f0860309e921d5d8e...</td>\n",
       "      <td>600000</td>\n",
       "      <td>2.873016</td>\n",
       "      <td>2.873016</td>\n",
       "    </tr>\n",
       "    <tr>\n",
       "      <th>30097</th>\n",
       "      <td>246662</td>\n",
       "      <td>007f687f46868741039d59a398b94f0860309e921d5d8e...</td>\n",
       "      <td>660000</td>\n",
       "      <td>2.129032</td>\n",
       "      <td>2.129032</td>\n",
       "    </tr>\n",
       "    <tr>\n",
       "      <th>30098</th>\n",
       "      <td>269109</td>\n",
       "      <td>007f687f46868741039d59a398b94f0860309e921d5d8e...</td>\n",
       "      <td>720000</td>\n",
       "      <td>1.796875</td>\n",
       "      <td>1.796875</td>\n",
       "    </tr>\n",
       "    <tr>\n",
       "      <th>30099</th>\n",
       "      <td>291633</td>\n",
       "      <td>007f687f46868741039d59a398b94f0860309e921d5d8e...</td>\n",
       "      <td>780000</td>\n",
       "      <td>2.034483</td>\n",
       "      <td>2.034483</td>\n",
       "    </tr>\n",
       "  </tbody>\n",
       "</table>\n",
       "<p>100 rows × 5 columns</p>\n",
       "</div>"
      ],
      "text/plain": [
       "       Unnamed: 0                                       msinstanceid  \\\n",
       "30000    14289203  007f243f9ac64689c594516ce6db5681f8b1693c3610fb...   \n",
       "30001    14311500  007f243f9ac64689c594516ce6db5681f8b1693c3610fb...   \n",
       "30002    14333794  007f243f9ac64689c594516ce6db5681f8b1693c3610fb...   \n",
       "30003    14356088  007f243f9ac64689c594516ce6db5681f8b1693c3610fb...   \n",
       "30004    14378366  007f243f9ac64689c594516ce6db5681f8b1693c3610fb...   \n",
       "...           ...                                                ...   \n",
       "30095      201749  007f687f46868741039d59a398b94f0860309e921d5d8e...   \n",
       "30096      224218  007f687f46868741039d59a398b94f0860309e921d5d8e...   \n",
       "30097      246662  007f687f46868741039d59a398b94f0860309e921d5d8e...   \n",
       "30098      269109  007f687f46868741039d59a398b94f0860309e921d5d8e...   \n",
       "30099      291633  007f687f46868741039d59a398b94f0860309e921d5d8e...   \n",
       "\n",
       "       timestamp  HTTP_MCR   HTTP_RT  \n",
       "30000   38040000  0.421053  0.421053  \n",
       "30001   38100000  8.947368  8.947368  \n",
       "30002   38160000  0.428571  0.428571  \n",
       "30003   38220000  0.772727  0.772727  \n",
       "30004   38280000  0.272727  0.272727  \n",
       "...          ...       ...       ...  \n",
       "30095     540000  1.847458  1.847458  \n",
       "30096     600000  2.873016  2.873016  \n",
       "30097     660000  2.129032  2.129032  \n",
       "30098     720000  1.796875  1.796875  \n",
       "30099     780000  2.034483  2.034483  \n",
       "\n",
       "[100 rows x 5 columns]"
      ]
     },
     "execution_count": 12,
     "metadata": {},
     "output_type": "execute_result"
    }
   ],
   "source": [
    "print(df.shape)\n",
    "df.head(100)"
   ]
  },
  {
   "cell_type": "code",
   "execution_count": 34,
   "metadata": {},
   "outputs": [],
   "source": [
    "# 定义步长 K\n",
    "TIME_STEP = 5\n",
    "\n",
    "def split_array_by_step(arr, k):\n",
    "    return [arr[i:i+k] for i in range(0, len(arr)-k, k)]\n",
    "\n",
    "# 按照 msinstanceid 列分组\n",
    "grouped_df = df.groupby('msinstanceid')[\"HTTP_RT\"].apply(\n",
    "    lambda x: split_array_by_step(x, TIME_STEP+1)).reset_index()\n"
   ]
  },
  {
   "cell_type": "code",
   "execution_count": 40,
   "metadata": {},
   "outputs": [
    {
     "ename": "AttributeError",
     "evalue": "'DataFrameGroupBy' object has no attribute 'iterrows'",
     "output_type": "error",
     "traceback": [
      "\u001b[0;31m---------------------------------------------------------------------------\u001b[0m",
      "\u001b[0;31mAttributeError\u001b[0m                            Traceback (most recent call last)",
      "Cell \u001b[0;32mIn[40], line 4\u001b[0m\n\u001b[1;32m      1\u001b[0m combined_df \u001b[39m=\u001b[39m pd\u001b[39m.\u001b[39mDataFrame()\n\u001b[1;32m      3\u001b[0m \u001b[39m# 对于每个分组\u001b[39;00m\n\u001b[0;32m----> 4\u001b[0m \u001b[39mfor\u001b[39;00m index, row \u001b[39min\u001b[39;00m grouped_df\u001b[39m.\u001b[39;49miterrows():\n\u001b[1;32m      5\u001b[0m     \u001b[39mif\u001b[39;00m \u001b[39mlen\u001b[39m(row[\u001b[39m\"\u001b[39m\u001b[39mHTTP_RT\u001b[39m\u001b[39m\"\u001b[39m]) \u001b[39m>\u001b[39m \u001b[39m0\u001b[39m:\n\u001b[1;32m      6\u001b[0m         combined_df \u001b[39m=\u001b[39m pd\u001b[39m.\u001b[39mconcat([combined_df, pd\u001b[39m.\u001b[39mDataFrame(\n\u001b[1;32m      7\u001b[0m             np\u001b[39m.\u001b[39mstack([arr \u001b[39mfor\u001b[39;00m arr \u001b[39min\u001b[39;00m row[\u001b[39m\"\u001b[39m\u001b[39mHTTP_RT\u001b[39m\u001b[39m\"\u001b[39m]], axis\u001b[39m=\u001b[39m\u001b[39m0\u001b[39m))])\n",
      "File \u001b[0;32m~/miniconda3/envs/service_workload/lib/python3.8/site-packages/pandas/core/groupby/groupby.py:987\u001b[0m, in \u001b[0;36mGroupBy.__getattr__\u001b[0;34m(self, attr)\u001b[0m\n\u001b[1;32m    984\u001b[0m \u001b[39mif\u001b[39;00m attr \u001b[39min\u001b[39;00m \u001b[39mself\u001b[39m\u001b[39m.\u001b[39mobj:\n\u001b[1;32m    985\u001b[0m     \u001b[39mreturn\u001b[39;00m \u001b[39mself\u001b[39m[attr]\n\u001b[0;32m--> 987\u001b[0m \u001b[39mraise\u001b[39;00m \u001b[39mAttributeError\u001b[39;00m(\n\u001b[1;32m    988\u001b[0m     \u001b[39mf\u001b[39m\u001b[39m\"\u001b[39m\u001b[39m'\u001b[39m\u001b[39m{\u001b[39;00m\u001b[39mtype\u001b[39m(\u001b[39mself\u001b[39m)\u001b[39m.\u001b[39m\u001b[39m__name__\u001b[39m\u001b[39m}\u001b[39;00m\u001b[39m'\u001b[39m\u001b[39m object has no attribute \u001b[39m\u001b[39m'\u001b[39m\u001b[39m{\u001b[39;00mattr\u001b[39m}\u001b[39;00m\u001b[39m'\u001b[39m\u001b[39m\"\u001b[39m\n\u001b[1;32m    989\u001b[0m )\n",
      "\u001b[0;31mAttributeError\u001b[0m: 'DataFrameGroupBy' object has no attribute 'iterrows'"
     ]
    }
   ],
   "source": [
    "combined_df = pd.DataFrame()\n",
    "\n",
    "# 对于每个分组\n",
    "for index, row in grouped_df.iterrows():\n",
    "    if len(row[\"HTTP_RT\"]) > 0:\n",
    "        combined_df = pd.concat([combined_df, pd.DataFrame(\n",
    "            np.stack([arr for arr in row[\"HTTP_RT\"]], axis=0))])\n",
    "\n",
    "print(combined_df.shape)"
   ]
  },
  {
   "cell_type": "code",
   "execution_count": 99,
   "metadata": {},
   "outputs": [],
   "source": [
    "scaler = MinMaxScaler()\n",
    "workload = scaler.fit_transform(combined_df)"
   ]
  },
  {
   "cell_type": "code",
   "execution_count": 100,
   "metadata": {},
   "outputs": [],
   "source": [
    "# 将数据转换为LSTM模型的输入形式\n",
    "def create_sequences(data, time_steps=1):\n",
    "    xs, ys = [], []\n",
    "    for i in range(len(data)):\n",
    "        if data[i][time_steps-1] != 0:\n",
    "            xs.append(data[i][:time_steps])\n",
    "            ys.append(data[i][time_steps]/data[i][time_steps-1])\n",
    "    return np.array(xs), np.array(ys)"
   ]
  },
  {
   "cell_type": "code",
   "execution_count": 101,
   "metadata": {},
   "outputs": [],
   "source": [
    "x_train, y_train = create_sequences(workload, TIME_STEP)"
   ]
  },
  {
   "cell_type": "code",
   "execution_count": 102,
   "metadata": {},
   "outputs": [
    {
     "name": "stdout",
     "output_type": "stream",
     "text": [
      "(3324, 5, 1)\n",
      "(3324, 1)\n"
     ]
    }
   ],
   "source": [
    "x_train=np.expand_dims(x_train, axis=2)\n",
    "y_train=np.expand_dims(y_train, axis=1)\n",
    "\n",
    "print(x_train.shape)\n",
    "print(y_train.shape)"
   ]
  },
  {
   "cell_type": "code",
   "execution_count": 104,
   "metadata": {},
   "outputs": [],
   "source": [
    "train_size = int(len(x_train) * 0.8)\n",
    "val_size = len(x_train) - train_size\n",
    "\n",
    "x_train, x_val = x_train[0:train_size, :,\n",
    "                         :], x_train[train_size:len(x_train), :, :]\n",
    "y_train, y_val = y_train[0:train_size], y_train[train_size:len(y_train)]\n"
   ]
  },
  {
   "cell_type": "code",
   "execution_count": 105,
   "metadata": {},
   "outputs": [],
   "source": [
    "INPUT_DIM = 1\n",
    "output_dim = 1\n",
    "batch_size = 10 #每轮训练模型时，样本的数量\n",
    "epochs = 50 #训练50轮次\n",
    "hidden_size = 64\n",
    "num_layers = 4"
   ]
  },
  {
   "cell_type": "code",
   "execution_count": 106,
   "metadata": {},
   "outputs": [],
   "source": [
    "class BiLSTMModel(nn.Module):\n",
    "    def __init__(self, input_dim, hidden_dim, num_layers, output_dim=1):\n",
    "        super(BiLSTMModel, self).__init__()\n",
    "        self.hidden_dim = hidden_dim\n",
    "        self.num_layers = num_layers\n",
    "\n",
    "        self.lstm = nn.LSTM(\n",
    "            input_dim, hidden_dim, num_layers=num_layers, batch_first=True, bidirectional=True)\n",
    "        self.fc = nn.Linear(hidden_dim * 2, output_dim)\n",
    "\n",
    "    def forward(self, x):\n",
    "        h0 = torch.zeros(self.num_layers * 2, x.size(0), self.hidden_dim).to(x.device)\n",
    "        c0 = torch.zeros(self.num_layers * 2, x.size(0), self.hidden_dim).to(x.device)\n",
    "\n",
    "        out, _ = self.lstm(x, (h0, c0))\n",
    "        out = self.fc(out[:, -1, :])\n",
    "\n",
    "        return out\n"
   ]
  },
  {
   "cell_type": "code",
   "execution_count": 107,
   "metadata": {},
   "outputs": [],
   "source": [
    "def train_model(train_x, train_y, model, epochs, batch_size, device):\n",
    "    train_x = torch.tensor(train_x, dtype=torch.float32).to(device)\n",
    "    train_y = torch.tensor(train_y, dtype=torch.float32).to(device)\n",
    "    dataset = TensorDataset(train_x, train_y)\n",
    "    dataloader = DataLoader(dataset, batch_size=batch_size, shuffle=True)\n",
    "\n",
    "    criterion = nn.MSELoss()\n",
    "    optimizer = optim.Adam(model.parameters())\n",
    "\n",
    "    for epoch in range(epochs):\n",
    "        running_loss = 0.0\n",
    "        total_samples = 0\n",
    "\n",
    "        for batch_x, batch_y in dataloader:\n",
    "            optimizer.zero_grad()\n",
    "            output = model(batch_x)\n",
    "            loss = criterion(output, batch_y)\n",
    "            loss.backward()\n",
    "            optimizer.step()\n",
    "\n",
    "            running_loss += loss.item() * batch_x.size(0)\n",
    "            total_samples += batch_x.size(0)\n",
    "\n",
    "        epoch_loss = running_loss / total_samples\n",
    "        print(f\"Epoch {epoch + 1}/{epochs}, Loss: {epoch_loss:.4f}\")\n",
    "\n",
    "    return model\n"
   ]
  },
  {
   "cell_type": "code",
   "execution_count": 108,
   "metadata": {},
   "outputs": [],
   "source": [
    "def predict(model, predict_x, device):\n",
    "    predict_x = torch.tensor(predict_x, dtype=torch.float32).to(device)\n",
    "    model.eval()\n",
    "    with torch.no_grad():\n",
    "        y_pred = model(predict_x)\n",
    "    return y_pred.cpu().numpy()"
   ]
  },
  {
   "cell_type": "code",
   "execution_count": 109,
   "metadata": {},
   "outputs": [
    {
     "name": "stdout",
     "output_type": "stream",
     "text": [
      "Epoch 1/50, Loss: 23.8396\n",
      "Epoch 2/50, Loss: 23.7885\n",
      "Epoch 3/50, Loss: 23.7827\n",
      "Epoch 4/50, Loss: 23.7680\n",
      "Epoch 5/50, Loss: 23.7843\n",
      "Epoch 6/50, Loss: 23.7567\n",
      "Epoch 7/50, Loss: 23.7616\n",
      "Epoch 8/50, Loss: 23.7750\n",
      "Epoch 9/50, Loss: 23.7583\n",
      "Epoch 10/50, Loss: 23.7637\n",
      "Epoch 11/50, Loss: 23.7729\n",
      "Epoch 12/50, Loss: 23.7587\n",
      "Epoch 13/50, Loss: 23.7673\n",
      "Epoch 14/50, Loss: 23.7643\n",
      "Epoch 15/50, Loss: 23.7533\n",
      "Epoch 16/50, Loss: 23.7620\n",
      "Epoch 17/50, Loss: 23.7557\n",
      "Epoch 18/50, Loss: 23.7723\n",
      "Epoch 19/50, Loss: 23.7722\n",
      "Epoch 20/50, Loss: 23.7680\n",
      "Epoch 21/50, Loss: 23.7621\n",
      "Epoch 22/50, Loss: 23.7663\n",
      "Epoch 23/50, Loss: 23.7577\n",
      "Epoch 24/50, Loss: 23.7294\n",
      "Epoch 25/50, Loss: 23.7424\n",
      "Epoch 26/50, Loss: 23.7430\n"
     ]
    },
    {
     "ename": "KeyboardInterrupt",
     "evalue": "",
     "output_type": "error",
     "traceback": [
      "\u001b[0;31m---------------------------------------------------------------------------\u001b[0m",
      "\u001b[0;31mKeyboardInterrupt\u001b[0m                         Traceback (most recent call last)",
      "Cell \u001b[0;32mIn[109], line 6\u001b[0m\n\u001b[1;32m      3\u001b[0m model \u001b[39m=\u001b[39m BiLSTMModel(INPUT_DIM, hidden_size, num_layers, output_dim)\n\u001b[1;32m      4\u001b[0m model\u001b[39m.\u001b[39mto(device)\n\u001b[0;32m----> 6\u001b[0m trained_model \u001b[39m=\u001b[39m train_model(x_train, y_train, model,\n\u001b[1;32m      7\u001b[0m                             epochs, batch_size, device)\n",
      "Cell \u001b[0;32mIn[107], line 18\u001b[0m, in \u001b[0;36mtrain_model\u001b[0;34m(train_x, train_y, model, epochs, batch_size, device)\u001b[0m\n\u001b[1;32m     16\u001b[0m output \u001b[39m=\u001b[39m model(batch_x)\n\u001b[1;32m     17\u001b[0m loss \u001b[39m=\u001b[39m criterion(output, batch_y)\n\u001b[0;32m---> 18\u001b[0m loss\u001b[39m.\u001b[39;49mbackward()\n\u001b[1;32m     19\u001b[0m optimizer\u001b[39m.\u001b[39mstep()\n\u001b[1;32m     21\u001b[0m running_loss \u001b[39m+\u001b[39m\u001b[39m=\u001b[39m loss\u001b[39m.\u001b[39mitem() \u001b[39m*\u001b[39m batch_x\u001b[39m.\u001b[39msize(\u001b[39m0\u001b[39m)\n",
      "File \u001b[0;32m~/miniconda3/envs/service_workload/lib/python3.8/site-packages/torch/_tensor.py:396\u001b[0m, in \u001b[0;36mTensor.backward\u001b[0;34m(self, gradient, retain_graph, create_graph, inputs)\u001b[0m\n\u001b[1;32m    387\u001b[0m \u001b[39mif\u001b[39;00m has_torch_function_unary(\u001b[39mself\u001b[39m):\n\u001b[1;32m    388\u001b[0m     \u001b[39mreturn\u001b[39;00m handle_torch_function(\n\u001b[1;32m    389\u001b[0m         Tensor\u001b[39m.\u001b[39mbackward,\n\u001b[1;32m    390\u001b[0m         (\u001b[39mself\u001b[39m,),\n\u001b[0;32m   (...)\u001b[0m\n\u001b[1;32m    394\u001b[0m         create_graph\u001b[39m=\u001b[39mcreate_graph,\n\u001b[1;32m    395\u001b[0m         inputs\u001b[39m=\u001b[39minputs)\n\u001b[0;32m--> 396\u001b[0m torch\u001b[39m.\u001b[39;49mautograd\u001b[39m.\u001b[39;49mbackward(\u001b[39mself\u001b[39;49m, gradient, retain_graph, create_graph, inputs\u001b[39m=\u001b[39;49minputs)\n",
      "File \u001b[0;32m~/miniconda3/envs/service_workload/lib/python3.8/site-packages/torch/autograd/__init__.py:173\u001b[0m, in \u001b[0;36mbackward\u001b[0;34m(tensors, grad_tensors, retain_graph, create_graph, grad_variables, inputs)\u001b[0m\n\u001b[1;32m    168\u001b[0m     retain_graph \u001b[39m=\u001b[39m create_graph\n\u001b[1;32m    170\u001b[0m \u001b[39m# The reason we repeat same the comment below is that\u001b[39;00m\n\u001b[1;32m    171\u001b[0m \u001b[39m# some Python versions print out the first line of a multi-line function\u001b[39;00m\n\u001b[1;32m    172\u001b[0m \u001b[39m# calls in the traceback and some print out the last line\u001b[39;00m\n\u001b[0;32m--> 173\u001b[0m Variable\u001b[39m.\u001b[39;49m_execution_engine\u001b[39m.\u001b[39;49mrun_backward(  \u001b[39m# Calls into the C++ engine to run the backward pass\u001b[39;49;00m\n\u001b[1;32m    174\u001b[0m     tensors, grad_tensors_, retain_graph, create_graph, inputs,\n\u001b[1;32m    175\u001b[0m     allow_unreachable\u001b[39m=\u001b[39;49m\u001b[39mTrue\u001b[39;49;00m, accumulate_grad\u001b[39m=\u001b[39;49m\u001b[39mTrue\u001b[39;49;00m)\n",
      "\u001b[0;31mKeyboardInterrupt\u001b[0m: "
     ]
    }
   ],
   "source": [
    "device = torch.device(\"cuda\" if torch.cuda.is_available() else \"cpu\")\n",
    "\n",
    "model = BiLSTMModel(INPUT_DIM, hidden_size, num_layers, output_dim)\n",
    "model.to(device)\n",
    "\n",
    "trained_model = train_model(x_train, y_train, model,\n",
    "                            epochs, batch_size, device)\n"
   ]
  },
  {
   "cell_type": "code",
   "execution_count": null,
   "metadata": {},
   "outputs": [
    {
     "name": "stdout",
     "output_type": "stream",
     "text": [
      "[[4.22782712]\n",
      " [0.        ]\n",
      " [0.81290569]\n",
      " [1.14954915]\n",
      " [1.11304285]\n",
      " [1.02985925]\n",
      " [0.95541379]] [[1.1318204]\n",
      " [1.1303885]\n",
      " [1.138173 ]\n",
      " [1.1356012]\n",
      " [1.1397035]\n",
      " [1.1342099]\n",
      " [1.1440767]]\n"
     ]
    }
   ],
   "source": [
    "def plot_predictions(y_val, y_pred):\n",
    "    # plt.figure(figsize=(12, 6))\n",
    "    plt.plot(y_val, label=\"Actual Values\", color='blue')\n",
    "    plt.plot(y_pred, label=\"Predicted Values\", color='red')\n",
    "    plt.xlabel(\"Timestamp\")\n",
    "    plt.ylabel(\"Workload\")\n",
    "    plt.legend()\n",
    "    plt.show()\n",
    "\n",
    "y_pred = predict(trained_model, x_val, device)\n",
    "\n",
    "print(y_val,y_pred)"
   ]
  },
  {
   "cell_type": "code",
   "execution_count": null,
   "metadata": {},
   "outputs": [
    {
     "data": {
      "image/png": "[encoded data removed]",
      "text/plain": [
       "<Figure size 640x480 with 1 Axes>"
      ]
     },
     "metadata": {},
     "output_type": "display_data"
    }
   ],
   "source": [
    "plot_predictions(y_val, y_pred)\n",
    "# 保存模型\n",
    "torch.save(model.state_dict(), \"../../model/BI-LSTM.pt\")"
   ]
  }
 ],
 "metadata": {
  "kernelspec": {
   "display_name": "service_workload",
   "language": "python",
   "name": "python3"
  },
  "language_info": {
   "codemirror_mode": {
    "name": "ipython",
    "version": 3
   },
   "file_extension": ".py",
   "mimetype": "text/x-python",
   "name": "python",
   "nbconvert_exporter": "python",
   "pygments_lexer": "ipython3",
   "version": "3.8.16"
  },
  "orig_nbformat": 4
 },
 "nbformat": 4,
 "nbformat_minor": 2
}
