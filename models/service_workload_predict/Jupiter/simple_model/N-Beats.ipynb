{
 "cells": [
  {
   "cell_type": "code",
   "execution_count": 33,
   "metadata": {},
   "outputs": [],
   "source": [
    "import numpy as np\n",
    "import pandas as pd\n",
    "\n",
    "import torch\n",
    "import torch.nn as nn\n",
    "import torch.optim as optim\n",
    "\n",
    "from torch.utils.data import TensorDataset, DataLoader\n",
    "\n",
    "from sklearn.preprocessing import MinMaxScaler\n",
    "\n",
    "import matplotlib.pyplot as plt\n",
    "\n",
    "from nbeats_pytorch.model import NBeatsNet"
   ]
  },
  {
   "cell_type": "code",
   "execution_count": 34,
   "metadata": {},
   "outputs": [],
   "source": [
    "chunksize = 10000\n",
    "reader = pd.read_csv(\n",
    "    \"/data/hmn_data/alibaba_cluster_data/MSRTQps_sort.csv\", chunksize=chunksize)\n"
   ]
  },
  {
   "cell_type": "code",
   "execution_count": 35,
   "metadata": {},
   "outputs": [],
   "source": [
    "df = pd.DataFrame()\n",
    "for index, chunk in enumerate(reader):\n",
    "        if index > 10:\n",
    "            break\n",
    "        df = pd.concat([df, chunk])"
   ]
  },
  {
   "cell_type": "code",
   "execution_count": 36,
   "metadata": {},
   "outputs": [
    {
     "data": {
      "text/html": [
       "<div>\n",
       "<style scoped>\n",
       "    .dataframe tbody tr th:only-of-type {\n",
       "        vertical-align: middle;\n",
       "    }\n",
       "\n",
       "    .dataframe tbody tr th {\n",
       "        vertical-align: top;\n",
       "    }\n",
       "\n",
       "    .dataframe thead th {\n",
       "        text-align: right;\n",
       "    }\n",
       "</style>\n",
       "<table border=\"1\" class=\"dataframe\">\n",
       "  <thead>\n",
       "    <tr style=\"text-align: right;\">\n",
       "      <th></th>\n",
       "      <th>Unnamed: 0</th>\n",
       "      <th>msinstanceid</th>\n",
       "      <th>timestamp</th>\n",
       "      <th>HTTP_MCR</th>\n",
       "      <th>HTTP_RT</th>\n",
       "    </tr>\n",
       "  </thead>\n",
       "  <tbody>\n",
       "    <tr>\n",
       "      <th>0</th>\n",
       "      <td>0</td>\n",
       "      <td>00008c44230137c49ee03f7b952b724134e0ba4197d55b...</td>\n",
       "      <td>0</td>\n",
       "      <td>7.195093</td>\n",
       "      <td>7.195093</td>\n",
       "    </tr>\n",
       "    <tr>\n",
       "      <th>1</th>\n",
       "      <td>22430</td>\n",
       "      <td>00008c44230137c49ee03f7b952b724134e0ba4197d55b...</td>\n",
       "      <td>60000</td>\n",
       "      <td>7.118115</td>\n",
       "      <td>7.118115</td>\n",
       "    </tr>\n",
       "    <tr>\n",
       "      <th>2</th>\n",
       "      <td>44840</td>\n",
       "      <td>00008c44230137c49ee03f7b952b724134e0ba4197d55b...</td>\n",
       "      <td>120000</td>\n",
       "      <td>6.985224</td>\n",
       "      <td>6.985224</td>\n",
       "    </tr>\n",
       "    <tr>\n",
       "      <th>3</th>\n",
       "      <td>67235</td>\n",
       "      <td>00008c44230137c49ee03f7b952b724134e0ba4197d55b...</td>\n",
       "      <td>180000</td>\n",
       "      <td>7.654883</td>\n",
       "      <td>7.654883</td>\n",
       "    </tr>\n",
       "    <tr>\n",
       "      <th>4</th>\n",
       "      <td>89612</td>\n",
       "      <td>00008c44230137c49ee03f7b952b724134e0ba4197d55b...</td>\n",
       "      <td>240000</td>\n",
       "      <td>7.217251</td>\n",
       "      <td>7.217251</td>\n",
       "    </tr>\n",
       "    <tr>\n",
       "      <th>...</th>\n",
       "      <td>...</td>\n",
       "      <td>...</td>\n",
       "      <td>...</td>\n",
       "      <td>...</td>\n",
       "      <td>...</td>\n",
       "    </tr>\n",
       "    <tr>\n",
       "      <th>95</th>\n",
       "      <td>2144226</td>\n",
       "      <td>00008c44230137c49ee03f7b952b724134e0ba4197d55b...</td>\n",
       "      <td>5700000</td>\n",
       "      <td>7.159023</td>\n",
       "      <td>7.159023</td>\n",
       "    </tr>\n",
       "    <tr>\n",
       "      <th>96</th>\n",
       "      <td>2166891</td>\n",
       "      <td>00008c44230137c49ee03f7b952b724134e0ba4197d55b...</td>\n",
       "      <td>5760000</td>\n",
       "      <td>6.933686</td>\n",
       "      <td>6.933686</td>\n",
       "    </tr>\n",
       "    <tr>\n",
       "      <th>97</th>\n",
       "      <td>2189593</td>\n",
       "      <td>00008c44230137c49ee03f7b952b724134e0ba4197d55b...</td>\n",
       "      <td>5820000</td>\n",
       "      <td>6.938315</td>\n",
       "      <td>6.938315</td>\n",
       "    </tr>\n",
       "    <tr>\n",
       "      <th>98</th>\n",
       "      <td>2212252</td>\n",
       "      <td>00008c44230137c49ee03f7b952b724134e0ba4197d55b...</td>\n",
       "      <td>5880000</td>\n",
       "      <td>7.534233</td>\n",
       "      <td>7.534233</td>\n",
       "    </tr>\n",
       "    <tr>\n",
       "      <th>99</th>\n",
       "      <td>2234889</td>\n",
       "      <td>00008c44230137c49ee03f7b952b724134e0ba4197d55b...</td>\n",
       "      <td>5940000</td>\n",
       "      <td>7.021664</td>\n",
       "      <td>7.021664</td>\n",
       "    </tr>\n",
       "  </tbody>\n",
       "</table>\n",
       "<p>100 rows × 5 columns</p>\n",
       "</div>"
      ],
      "text/plain": [
       "    Unnamed: 0                                       msinstanceid  timestamp  \\\n",
       "0            0  00008c44230137c49ee03f7b952b724134e0ba4197d55b...          0   \n",
       "1        22430  00008c44230137c49ee03f7b952b724134e0ba4197d55b...      60000   \n",
       "2        44840  00008c44230137c49ee03f7b952b724134e0ba4197d55b...     120000   \n",
       "3        67235  00008c44230137c49ee03f7b952b724134e0ba4197d55b...     180000   \n",
       "4        89612  00008c44230137c49ee03f7b952b724134e0ba4197d55b...     240000   \n",
       "..         ...                                                ...        ...   \n",
       "95     2144226  00008c44230137c49ee03f7b952b724134e0ba4197d55b...    5700000   \n",
       "96     2166891  00008c44230137c49ee03f7b952b724134e0ba4197d55b...    5760000   \n",
       "97     2189593  00008c44230137c49ee03f7b952b724134e0ba4197d55b...    5820000   \n",
       "98     2212252  00008c44230137c49ee03f7b952b724134e0ba4197d55b...    5880000   \n",
       "99     2234889  00008c44230137c49ee03f7b952b724134e0ba4197d55b...    5940000   \n",
       "\n",
       "    HTTP_MCR   HTTP_RT  \n",
       "0   7.195093  7.195093  \n",
       "1   7.118115  7.118115  \n",
       "2   6.985224  6.985224  \n",
       "3   7.654883  7.654883  \n",
       "4   7.217251  7.217251  \n",
       "..       ...       ...  \n",
       "95  7.159023  7.159023  \n",
       "96  6.933686  6.933686  \n",
       "97  6.938315  6.938315  \n",
       "98  7.534233  7.534233  \n",
       "99  7.021664  7.021664  \n",
       "\n",
       "[100 rows x 5 columns]"
      ]
     },
     "execution_count": 36,
     "metadata": {},
     "output_type": "execute_result"
    }
   ],
   "source": [
    "df.head(100)"
   ]
  },
  {
   "cell_type": "code",
   "execution_count": 37,
   "metadata": {},
   "outputs": [],
   "source": [
    "# 定义步长 K\n",
    "TIME_STEP = 10\n",
    "\n",
    "\n",
    "def split_array_by_step(arr, k):\n",
    "    return [arr[i:i+k] for i in range(0, len(arr)-k, k)]\n",
    "\n",
    "# 按照 msinstanceid 列分组\n",
    "grouped_df = df.groupby('msinstanceid')[\"HTTP_RT\"].apply(\n",
    "    lambda x: split_array_by_step(x, TIME_STEP+1)).reset_index()\n"
   ]
  },
  {
   "cell_type": "code",
   "execution_count": 38,
   "metadata": {},
   "outputs": [
    {
     "name": "stdout",
     "output_type": "stream",
     "text": [
      "(9907, 11)\n"
     ]
    }
   ],
   "source": [
    "combined_df = pd.DataFrame()\n",
    "\n",
    "# 对于每个分组\n",
    "for index, row in grouped_df.iterrows():\n",
    "    if len(row[\"HTTP_RT\"]) > 0:\n",
    "        combined_df = pd.concat([combined_df, pd.DataFrame(\n",
    "            np.stack([arr for arr in row[\"HTTP_RT\"]], axis=0))])\n",
    "\n",
    "print(combined_df.shape)"
   ]
  },
  {
   "cell_type": "code",
   "execution_count": 39,
   "metadata": {},
   "outputs": [],
   "source": [
    "scaler = MinMaxScaler()\n",
    "workload = scaler.fit_transform(combined_df)"
   ]
  },
  {
   "cell_type": "code",
   "execution_count": 40,
   "metadata": {},
   "outputs": [],
   "source": [
    "# 将数据转换为LSTM模型的输入形式\n",
    "def create_sequences(data, time_steps=1):\n",
    "    xs, ys = [], []\n",
    "    for i in range(len(data)):\n",
    "        xs.append(data[i][:time_steps])\n",
    "        ys.append(data[i][time_steps])\n",
    "    return np.array(xs), np.array(ys)"
   ]
  },
  {
   "cell_type": "code",
   "execution_count": 41,
   "metadata": {},
   "outputs": [],
   "source": [
    "x_train, y_train = create_sequences(workload, TIME_STEP)"
   ]
  },
  {
   "cell_type": "code",
   "execution_count": 42,
   "metadata": {},
   "outputs": [
    {
     "name": "stdout",
     "output_type": "stream",
     "text": [
      "(9907, 10, 1)\n",
      "(9907, 1)\n"
     ]
    }
   ],
   "source": [
    "x_train=np.expand_dims(x_train, axis=2)\n",
    "y_train=np.expand_dims(y_train, axis=1)\n",
    "print(x_train.shape)\n",
    "print(y_train.shape)"
   ]
  },
  {
   "cell_type": "code",
   "execution_count": 43,
   "metadata": {},
   "outputs": [],
   "source": [
    "train_size = int(len(x_train) * 0.8)\n",
    "val_size = len(x_train) - train_size\n",
    "\n",
    "x_train, x_val = x_train[0:train_size, :], x_train[train_size:len(x_train), :]\n",
    "y_train, y_val = y_train[0:train_size], y_train[train_size:len(y_train)]\n"
   ]
  },
  {
   "cell_type": "code",
   "execution_count": 44,
   "metadata": {},
   "outputs": [],
   "source": [
    "INPUT_DIM = 1\n",
    "output_dim = 1\n",
    "batch_size = 10 #每轮训练模型时，样本的数量\n",
    "epochs = 50 #训练50轮次\n",
    "hidden_size = 64\n",
    "num_layers = 4"
   ]
  },
  {
   "cell_type": "code",
   "execution_count": 45,
   "metadata": {},
   "outputs": [],
   "source": [
    "class BiLSTMModel(nn.Module):\n",
    "    def __init__(self, input_dim, hidden_dim, num_layers, output_dim=1):\n",
    "        super(BiLSTMModel, self).__init__()\n",
    "        self.hidden_dim = hidden_dim\n",
    "        self.num_layers = num_layers\n",
    "\n",
    "        self.lstm = nn.LSTM(\n",
    "            input_dim, hidden_dim, num_layers=num_layers, batch_first=True, bidirectional=True)\n",
    "        self.fc = nn.Linear(hidden_dim * 2, output_dim)\n",
    "\n",
    "    def forward(self, x):\n",
    "        h0 = torch.zeros(self.num_layers * 2, x.size(0), self.hidden_dim).to(x.device)\n",
    "        c0 = torch.zeros(self.num_layers * 2, x.size(0), self.hidden_dim).to(x.device)\n",
    "\n",
    "        out, _ = self.lstm(x, (h0, c0))\n",
    "        out = self.fc(out[:, -1, :])\n",
    "\n",
    "        return out\n"
   ]
  },
  {
   "cell_type": "code",
   "execution_count": 53,
   "metadata": {},
   "outputs": [],
   "source": [
    "def train_model(train_x, train_y, model, epochs, batch_size, device):\n",
    "    train_x = torch.tensor(train_x, dtype=torch.float32).to(device)\n",
    "    train_y = torch.tensor(train_y, dtype=torch.float32).to(device)\n",
    "    dataset = TensorDataset(train_x, train_y)\n",
    "    dataloader = DataLoader(dataset, batch_size=batch_size, shuffle=True)\n",
    "\n",
    "    criterion = nn.MSELoss()\n",
    "    optimizer = optim.Adam(model.parameters())\n",
    "\n",
    "    for epoch in range(epochs):\n",
    "        running_loss = 0.0\n",
    "        total_samples = 0\n",
    "\n",
    "        for batch_x, batch_y in dataloader:\n",
    "            optimizer.zero_grad()\n",
    "            _, output = model(batch_x)\n",
    "            loss = criterion(output, batch_y)\n",
    "            loss.backward()\n",
    "            optimizer.step()\n",
    "\n",
    "            running_loss += loss.item() * batch_x.size(0)\n",
    "            total_samples += batch_x.size(0)\n",
    "\n",
    "        epoch_loss = running_loss / total_samples\n",
    "        print(f\"Epoch {epoch + 1}/{epochs}, Loss: {epoch_loss:.4f}\")\n",
    "\n",
    "    return model\n"
   ]
  },
  {
   "cell_type": "code",
   "execution_count": 56,
   "metadata": {},
   "outputs": [],
   "source": [
    "def predict(model, predict_x, device):\n",
    "    predict_x = torch.tensor(predict_x, dtype=torch.float32).to(device)\n",
    "    model.eval()\n",
    "    with torch.no_grad():\n",
    "        _, y_pred = model(predict_x)\n",
    "    return y_pred.cpu().numpy()\n"
   ]
  },
  {
   "cell_type": "code",
   "execution_count": 54,
   "metadata": {},
   "outputs": [
    {
     "name": "stdout",
     "output_type": "stream",
     "text": [
      "| N-Beats\n",
      "| --  Stack Generic (#0) (share_weights_in_stack=True)\n",
      "     | -- GenericBlock(units=64, thetas_dim=4, backcast_length=10, forecast_length=1, share_thetas=False) at @140610695571152\n",
      "     | -- GenericBlock(units=64, thetas_dim=4, backcast_length=10, forecast_length=1, share_thetas=False) at @140610695571152\n",
      "     | -- GenericBlock(units=64, thetas_dim=4, backcast_length=10, forecast_length=1, share_thetas=False) at @140610695571152\n",
      "| --  Stack Generic (#1) (share_weights_in_stack=True)\n",
      "     | -- GenericBlock(units=64, thetas_dim=4, backcast_length=10, forecast_length=1, share_thetas=False) at @140610857046416\n",
      "     | -- GenericBlock(units=64, thetas_dim=4, backcast_length=10, forecast_length=1, share_thetas=False) at @140610857046416\n",
      "     | -- GenericBlock(units=64, thetas_dim=4, backcast_length=10, forecast_length=1, share_thetas=False) at @140610857046416\n",
      "Epoch 1/50, Loss: 0.0035\n",
      "Epoch 2/50, Loss: 0.0001\n",
      "Epoch 3/50, Loss: 0.0001\n",
      "Epoch 4/50, Loss: 0.0001\n",
      "Epoch 5/50, Loss: 0.0001\n",
      "Epoch 6/50, Loss: 0.0001\n",
      "Epoch 7/50, Loss: 0.0001\n",
      "Epoch 8/50, Loss: 0.0001\n",
      "Epoch 9/50, Loss: 0.0001\n",
      "Epoch 10/50, Loss: 0.0001\n",
      "Epoch 11/50, Loss: 0.0001\n",
      "Epoch 12/50, Loss: 0.0002\n",
      "Epoch 13/50, Loss: 0.0001\n",
      "Epoch 14/50, Loss: 0.0001\n",
      "Epoch 15/50, Loss: 0.0001\n",
      "Epoch 16/50, Loss: 0.0001\n",
      "Epoch 17/50, Loss: 0.0001\n",
      "Epoch 18/50, Loss: 0.0001\n",
      "Epoch 19/50, Loss: 0.0001\n",
      "Epoch 20/50, Loss: 0.0001\n",
      "Epoch 21/50, Loss: 0.0001\n",
      "Epoch 22/50, Loss: 0.0001\n",
      "Epoch 23/50, Loss: 0.0001\n",
      "Epoch 24/50, Loss: 0.0001\n",
      "Epoch 25/50, Loss: 0.0001\n",
      "Epoch 26/50, Loss: 0.0001\n",
      "Epoch 27/50, Loss: 0.0001\n",
      "Epoch 28/50, Loss: 0.0001\n",
      "Epoch 29/50, Loss: 0.0001\n",
      "Epoch 30/50, Loss: 0.0001\n",
      "Epoch 31/50, Loss: 0.0001\n",
      "Epoch 32/50, Loss: 0.0001\n",
      "Epoch 33/50, Loss: 0.0001\n",
      "Epoch 34/50, Loss: 0.0001\n",
      "Epoch 35/50, Loss: 0.0001\n",
      "Epoch 36/50, Loss: 0.0001\n",
      "Epoch 37/50, Loss: 0.0001\n",
      "Epoch 38/50, Loss: 0.0001\n",
      "Epoch 39/50, Loss: 0.0001\n",
      "Epoch 40/50, Loss: 0.0001\n",
      "Epoch 41/50, Loss: 0.0001\n",
      "Epoch 42/50, Loss: 0.0001\n",
      "Epoch 43/50, Loss: 0.0001\n",
      "Epoch 44/50, Loss: 0.0001\n",
      "Epoch 45/50, Loss: 0.0000\n",
      "Epoch 46/50, Loss: 0.0001\n",
      "Epoch 47/50, Loss: 0.0001\n",
      "Epoch 48/50, Loss: 0.0001\n",
      "Epoch 49/50, Loss: 0.0001\n",
      "Epoch 50/50, Loss: 0.0001\n"
     ]
    }
   ],
   "source": [
    "device = torch.device(\"cuda\" if torch.cuda.is_available() else \"cpu\")\n",
    "\n",
    "model = NBeatsNet(stack_types=('generic', 'generic'),\n",
    "                  nb_blocks_per_stack=3,\n",
    "                  thetas_dim=(4, 4),\n",
    "                  forecast_length=1,\n",
    "                  backcast_length=10,\n",
    "                  hidden_layer_units=hidden_size,\n",
    "                  share_weights_in_stack=True)\n",
    "\n",
    "model.to(device)\n",
    "\n",
    "trained_model = train_model(x_train, y_train, model,\n",
    "                            epochs, batch_size, device)\n"
   ]
  },
  {
   "cell_type": "code",
   "execution_count": 57,
   "metadata": {},
   "outputs": [],
   "source": [
    "def plot_predictions(y_val, y_pred):\n",
    "    plt.figure(figsize=(12, 6))\n",
    "    plt.ylim(0, 0.1)\n",
    "    plt.plot(y_val, label=\"Actual Values\", color='blue')\n",
    "    plt.plot(y_pred, label=\"Predicted Values\", color='red')\n",
    "    plt.xlabel(\"Timestamp\")\n",
    "    plt.ylabel(\"Workload\")\n",
    "    plt.legend()\n",
    "    plt.show()\n",
    "\n",
    "y_pred = predict(trained_model, x_val, device)"
   ]
  },
  {
   "cell_type": "code",
   "execution_count": 58,
   "metadata": {},
   "outputs": [
    {
     "data": {
      "image/png": "[encoded data removed]",
      "text/plain": [
       "<Figure size 1200x600 with 1 Axes>"
      ]
     },
     "metadata": {},
     "output_type": "display_data"
    }
   ],
   "source": [
    "plot_predictions(y_val, y_pred)\n",
    "# 保存模型\n",
    "torch.save(model.state_dict(), \"../../model/NBeats.pt\")"
   ]
  }
 ],
 "metadata": {
  "kernelspec": {
   "display_name": "service_workload",
   "language": "python",
   "name": "python3"
  },
  "language_info": {
   "codemirror_mode": {
    "name": "ipython",
    "version": 3
   },
   "file_extension": ".py",
   "mimetype": "text/x-python",
   "name": "python",
   "nbconvert_exporter": "python",
   "pygments_lexer": "ipython3",
   "version": "3.8.16"
  },
  "orig_nbformat": 4
 },
 "nbformat": 4,
 "nbformat_minor": 2
}
