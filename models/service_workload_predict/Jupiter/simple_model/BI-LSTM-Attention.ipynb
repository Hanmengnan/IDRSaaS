{
 "cells": [
  {
   "cell_type": "code",
   "execution_count": 34,
   "metadata": {},
   "outputs": [],
   "source": [
    "import numpy as np\n",
    "import pandas as pd\n",
    "\n",
    "import torch\n",
    "import torch.nn as nn\n",
    "import torch.optim as optim\n",
    "\n",
    "from torch.utils.data import TensorDataset, DataLoader\n",
    "from torch.nn.utils.rnn import pad_sequence, pack_padded_sequence, pad_packed_sequence\n",
    "\n",
    "from sklearn.preprocessing import MinMaxScaler\n",
    "\n",
    "import matplotlib.pyplot as plt"
   ]
  },
  {
   "cell_type": "code",
   "execution_count": 35,
   "metadata": {},
   "outputs": [],
   "source": [
    "chunksize = 10000\n",
    "reader = pd.read_csv(\n",
    "    \"/data/hmn_data/alibaba_cluster_data/MSRTQps_sort.csv\", chunksize=chunksize)\n"
   ]
  },
  {
   "cell_type": "code",
   "execution_count": 36,
   "metadata": {},
   "outputs": [],
   "source": [
    "df = pd.DataFrame()\n",
    "index = 0\n",
    "# 循环读取每个数据块并添加到DataFrame中\n",
    "for chunk in reader:\n",
    "    if index>10:\n",
    "        break\n",
    "    else:\n",
    "        index += 1\n",
    "    df = pd.concat([df, chunk])"
   ]
  },
  {
   "cell_type": "code",
   "execution_count": 52,
   "metadata": {},
   "outputs": [
    {
     "data": {
      "text/plain": [
       "(110000, 5)"
      ]
     },
     "execution_count": 52,
     "metadata": {},
     "output_type": "execute_result"
    }
   ],
   "source": [
    "df.shape"
   ]
  },
  {
   "cell_type": "code",
   "execution_count": 38,
   "metadata": {},
   "outputs": [],
   "source": [
    "# 定义步长 K\n",
    "TIME_STEP = 10\n",
    "\n",
    "\n",
    "def split_array_by_step(arr, k):\n",
    "    return [arr[i:i+k] for i in range(0, len(arr)-k, k)]\n",
    "\n",
    "# 按照 msinstanceid 列分组\n",
    "grouped_df = df.groupby('msinstanceid')[\"HTTP_RT\"].apply(\n",
    "    lambda x: split_array_by_step(x, TIME_STEP+1)).reset_index()\n"
   ]
  },
  {
   "cell_type": "code",
   "execution_count": 39,
   "metadata": {},
   "outputs": [
    {
     "name": "stdout",
     "output_type": "stream",
     "text": [
      "(9907, 11)\n"
     ]
    }
   ],
   "source": [
    "combined_df = pd.DataFrame()\n",
    "\n",
    "# 对于每个分组\n",
    "for index, row in grouped_df.iterrows():\n",
    "    if len(row[\"HTTP_RT\"]) > 0:\n",
    "        combined_df = pd.concat([combined_df, pd.DataFrame(\n",
    "            np.stack([arr for arr in row[\"HTTP_RT\"]], axis=0))])\n",
    "\n",
    "print(combined_df.shape)"
   ]
  },
  {
   "cell_type": "code",
   "execution_count": 40,
   "metadata": {},
   "outputs": [],
   "source": [
    "scaler = MinMaxScaler()\n",
    "workload = scaler.fit_transform(combined_df)"
   ]
  },
  {
   "cell_type": "code",
   "execution_count": 41,
   "metadata": {},
   "outputs": [],
   "source": [
    "# 将数据转换为LSTM模型的输入形式\n",
    "def create_sequences(data, time_steps=1):\n",
    "    xs, ys = [], []\n",
    "    for i in range(len(data)):\n",
    "        xs.append(data[i][:time_steps])\n",
    "        ys.append(data[i][time_steps])\n",
    "    return np.array(xs), np.array(ys)\n",
    "\n",
    "x_train, y_train = create_sequences(workload, TIME_STEP)"
   ]
  },
  {
   "cell_type": "code",
   "execution_count": 42,
   "metadata": {},
   "outputs": [
    {
     "name": "stdout",
     "output_type": "stream",
     "text": [
      "(9907, 10, 1)\n",
      "(9907,)\n"
     ]
    }
   ],
   "source": [
    "x_train=np.expand_dims(x_train, axis=2)\n",
    "\n",
    "print(x_train.shape)\n",
    "print(y_train.shape)"
   ]
  },
  {
   "cell_type": "code",
   "execution_count": 43,
   "metadata": {},
   "outputs": [],
   "source": [
    "train_size = int(len(x_train) * 0.8)\n",
    "val_size = len(x_train) - train_size\n",
    "\n",
    "x_train, x_val = x_train[0:train_size, :,\n",
    "                         :], x_train[train_size:len(x_train), :, :]\n",
    "y_train, y_val = y_train[0:train_size], y_train[train_size:len(y_train)]\n"
   ]
  },
  {
   "cell_type": "code",
   "execution_count": 44,
   "metadata": {},
   "outputs": [
    {
     "name": "stdout",
     "output_type": "stream",
     "text": [
      "(7925, 10, 1)\n"
     ]
    }
   ],
   "source": [
    "INPUT_DIM = x_train.shape[2]\n",
    "print(x_train.shape)\n",
    "output_dim = 1\n",
    "batch_size = 10 #每轮训练模型时，样本的数量\n",
    "epochs = 50 #训练60轮次\n",
    "hidden_size = 128\n",
    "lstm_units = 64"
   ]
  },
  {
   "cell_type": "code",
   "execution_count": 45,
   "metadata": {},
   "outputs": [],
   "source": [
    "class Attention(nn.Module):\n",
    "    def __init__(self, lstm_hidden_size, attention_size):\n",
    "        super(Attention, self).__init__()\n",
    "        self.lstm_hidden_size = lstm_hidden_size\n",
    "        self.attention_size = attention_size\n",
    "        self.attention_vec = nn.Linear(lstm_hidden_size * 2, attention_size)\n",
    "        self.sigmoid = nn.Sigmoid()\n",
    "\n",
    "    def forward(self, lstm_out):\n",
    "        attention_probs = self.sigmoid(self.attention_vec(lstm_out))\n",
    "        return attention_probs * lstm_out\n"
   ]
  },
  {
   "cell_type": "code",
   "execution_count": 46,
   "metadata": {},
   "outputs": [],
   "source": [
    "\n",
    "class LSTM_fun_PyTorch_att(nn.Module):\n",
    "    def __init__(self, n_input, seq_len, lstm_hidden_size=32, attention_size=64):\n",
    "        super(LSTM_fun_PyTorch_att, self).__init__()\n",
    "        self.conv1d = nn.Conv1d(n_input, 32, kernel_size=1)\n",
    "        self.relu = nn.ReLU()\n",
    "        self.maxpool1d = nn.MaxPool1d(seq_len)\n",
    "        self.dropout = nn.Dropout(0.1)\n",
    "        self.bilstm = nn.LSTM(32, lstm_hidden_size, bidirectional=True)\n",
    "        self.attention = Attention(lstm_hidden_size, attention_size)\n",
    "        self.fc = nn.Linear(lstm_hidden_size * 2, 1)\n",
    "\n",
    "    def forward(self, inputs):\n",
    "        x = self.conv1d(inputs)\n",
    "        x = self.relu(x)\n",
    "        x = self.maxpool1d(x)\n",
    "        x = self.dropout(x)\n",
    "        x = x.transpose(1, 2)\n",
    "        lstm_out, _ = self.bilstm(x)\n",
    "        attention_mul = self.attention(lstm_out)\n",
    "        output = self.fc(attention_mul)\n",
    "        return output.squeeze()\n"
   ]
  },
  {
   "cell_type": "code",
   "execution_count": 47,
   "metadata": {},
   "outputs": [],
   "source": [
    "def train_model(train_x, train_y, model, epochs, batch_size, device):\n",
    "    train_x = torch.tensor(train_x, dtype=torch.float32).to(device)\n",
    "    train_y = torch.tensor(train_y, dtype=torch.float32).to(device)\n",
    "    dataset = TensorDataset(train_x, train_y)\n",
    "    dataloader = DataLoader(dataset, batch_size=batch_size, shuffle=True)\n",
    "\n",
    "    criterion = nn.MSELoss()\n",
    "    optimizer = optim.Adam(model.parameters())\n",
    "\n",
    "    for epoch in range(epochs):\n",
    "        running_loss = 0.0\n",
    "        total_samples = 0\n",
    "\n",
    "        for batch_x, batch_y in dataloader:\n",
    "            optimizer.zero_grad()\n",
    "            output = model(batch_x)\n",
    "            loss = criterion(output, batch_y)\n",
    "            loss.backward()\n",
    "            optimizer.step()\n",
    "\n",
    "            running_loss += loss.item() * batch_x.size(0)\n",
    "            total_samples += batch_x.size(0)\n",
    "\n",
    "        epoch_loss = running_loss / total_samples\n",
    "        print(f\"Epoch {epoch + 1}/{epochs}, Loss: {epoch_loss:.4f}\")\n",
    "\n",
    "    return model\n"
   ]
  },
  {
   "cell_type": "code",
   "execution_count": 48,
   "metadata": {},
   "outputs": [],
   "source": [
    "\n",
    "def predict(model, predict_x, device):\n",
    "    predict_x = torch.tensor(predict_x, dtype=torch.float32).to(device)\n",
    "    model.eval()\n",
    "    with torch.no_grad():\n",
    "        y_pred = model(predict_x)\n",
    "    return y_pred.cpu().numpy()\n"
   ]
  },
  {
   "cell_type": "code",
   "execution_count": 49,
   "metadata": {},
   "outputs": [
    {
     "name": "stdout",
     "output_type": "stream",
     "text": [
      "(7925, 1, 10)\n",
      "(7925,)\n",
      "Epoch 1/50, Loss: 0.0004\n",
      "Epoch 2/50, Loss: 0.0003\n",
      "Epoch 3/50, Loss: 0.0003\n",
      "Epoch 4/50, Loss: 0.0003\n",
      "Epoch 5/50, Loss: 0.0002\n",
      "Epoch 6/50, Loss: 0.0002\n",
      "Epoch 7/50, Loss: 0.0002\n",
      "Epoch 8/50, Loss: 0.0002\n",
      "Epoch 9/50, Loss: 0.0002\n",
      "Epoch 10/50, Loss: 0.0002\n",
      "Epoch 11/50, Loss: 0.0002\n",
      "Epoch 12/50, Loss: 0.0002\n",
      "Epoch 13/50, Loss: 0.0002\n",
      "Epoch 14/50, Loss: 0.0002\n",
      "Epoch 15/50, Loss: 0.0002\n",
      "Epoch 16/50, Loss: 0.0002\n",
      "Epoch 17/50, Loss: 0.0002\n",
      "Epoch 18/50, Loss: 0.0002\n",
      "Epoch 19/50, Loss: 0.0002\n",
      "Epoch 20/50, Loss: 0.0002\n",
      "Epoch 21/50, Loss: 0.0002\n",
      "Epoch 22/50, Loss: 0.0002\n",
      "Epoch 23/50, Loss: 0.0002\n",
      "Epoch 24/50, Loss: 0.0002\n",
      "Epoch 25/50, Loss: 0.0002\n",
      "Epoch 26/50, Loss: 0.0002\n",
      "Epoch 27/50, Loss: 0.0002\n",
      "Epoch 28/50, Loss: 0.0002\n",
      "Epoch 29/50, Loss: 0.0002\n",
      "Epoch 30/50, Loss: 0.0002\n",
      "Epoch 31/50, Loss: 0.0002\n",
      "Epoch 32/50, Loss: 0.0002\n",
      "Epoch 33/50, Loss: 0.0002\n",
      "Epoch 34/50, Loss: 0.0002\n",
      "Epoch 35/50, Loss: 0.0002\n",
      "Epoch 36/50, Loss: 0.0002\n",
      "Epoch 37/50, Loss: 0.0002\n",
      "Epoch 38/50, Loss: 0.0002\n",
      "Epoch 39/50, Loss: 0.0002\n",
      "Epoch 40/50, Loss: 0.0002\n",
      "Epoch 41/50, Loss: 0.0002\n",
      "Epoch 42/50, Loss: 0.0002\n",
      "Epoch 43/50, Loss: 0.0002\n",
      "Epoch 44/50, Loss: 0.0002\n",
      "Epoch 45/50, Loss: 0.0002\n",
      "Epoch 46/50, Loss: 0.0002\n",
      "Epoch 47/50, Loss: 0.0002\n",
      "Epoch 48/50, Loss: 0.0002\n",
      "Epoch 49/50, Loss: 0.0002\n",
      "Epoch 50/50, Loss: 0.0002\n"
     ]
    }
   ],
   "source": [
    "device = torch.device('cuda' if torch.cuda.is_available() else 'cpu')\n",
    "\n",
    "model = LSTM_fun_PyTorch_att(INPUT_DIM, TIME_STEP).to(device)\n",
    "\n",
    "# Reshape the data to match the expected input format of nn.Conv1d\n",
    "x_train = np.transpose(x_train, (0, 2, 1))\n",
    "x_val = np.transpose(x_val, (0, 2, 1))\n",
    "\n",
    "\n",
    "trained_model = train_model(x_train, y_train, model, epochs, batch_size, device)\n",
    "\n"
   ]
  },
  {
   "cell_type": "code",
   "execution_count": 1,
   "metadata": {},
   "outputs": [
    {
     "ename": "NameError",
     "evalue": "name 'predict' is not defined",
     "output_type": "error",
     "traceback": [
      "\u001b[0;31m---------------------------------------------------------------------------\u001b[0m",
      "\u001b[0;31mNameError\u001b[0m                                 Traceback (most recent call last)",
      "Cell \u001b[0;32mIn[1], line 11\u001b[0m\n\u001b[1;32m      8\u001b[0m     plt\u001b[39m.\u001b[39mlegend()\n\u001b[1;32m      9\u001b[0m     plt\u001b[39m.\u001b[39mshow()\n\u001b[0;32m---> 11\u001b[0m y_pred \u001b[39m=\u001b[39m predict(trained_model, x_val, device)\n",
      "\u001b[0;31mNameError\u001b[0m: name 'predict' is not defined"
     ]
    }
   ],
   "source": [
    "def plot_predictions(y_val, y_pred):\n",
    "    plt.figure(figsize=(12, 6))\n",
    "    plt.ylim(0, 0.1)\n",
    "    plt.plot(y_val, label=\"Actual Values\", color='blue')\n",
    "    plt.plot(y_pred, label=\"Predicted Values\", color='red')\n",
    "    plt.xlabel(\"Timestamp\")\n",
    "    plt.ylabel(\"Workload\")\n",
    "    plt.legend()\n",
    "    plt.show()\n",
    "\n",
    "y_pred = predict(trained_model, x_val, device)"
   ]
  },
  {
   "cell_type": "code",
   "execution_count": 56,
   "metadata": {},
   "outputs": [
    {
     "data": {
      "image/png": "[encoded data removed]",
      "text/plain": [
       "<Figure size 1200x600 with 1 Axes>"
      ]
     },
     "metadata": {},
     "output_type": "display_data"
    }
   ],
   "source": [
    "plot_predictions(y_val, y_pred)"
   ]
  }
 ],
 "metadata": {
  "kernelspec": {
   "display_name": "service_workload",
   "language": "python",
   "name": "python3"
  },
  "language_info": {
   "codemirror_mode": {
    "name": "ipython",
    "version": 3
   },
   "file_extension": ".py",
   "mimetype": "text/x-python",
   "name": "python",
   "nbconvert_exporter": "python",
   "pygments_lexer": "ipython3",
   "version": "3.8.16"
  },
  "orig_nbformat": 4
 },
 "nbformat": 4,
 "nbformat_minor": 2
}
